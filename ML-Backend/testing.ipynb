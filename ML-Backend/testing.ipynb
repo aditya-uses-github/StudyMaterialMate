{
 "cells": [
  {
   "cell_type": "code",
   "execution_count": 2,
   "metadata": {},
   "outputs": [],
   "source": [
    "import tensorflow as tf\n",
    "import tensorflow_hub as hub\n",
    "import tensorflow_text"
   ]
  },
  {
   "cell_type": "code",
   "execution_count": 3,
   "metadata": {},
   "outputs": [],
   "source": [
    "model = tf.keras.models.load_model(\"bert_model.h5\",\n",
    "                                   compile=False,\n",
    "                                   custom_objects={\n",
    "                                       'KerasLayer': hub.KerasLayer}\n",
    "                                   )"
   ]
  },
  {
   "cell_type": "code",
   "execution_count": 4,
   "metadata": {},
   "outputs": [],
   "source": [
    "titles = [\"What is Torque? - Torque basics explained\",\n",
    "          \"Class 11 chapter 7 | Rotatational Motion 02 || Torque - Moment Of Force - Turning Effect Of Force |\",\n",
    "          \"TORQUE: The HATED 'Fast and Furious' Parody\",\n",
    "          \"Torque, Basic Introduction, Lever Arm, Moment of Force, Simple Machines & Mechanical Advantage\",\n",
    "          \"One-of-a-Kind Track-Focused Superbike in South Asia | Torque Motorsports\",\n",
    "          \"Play torque the game on xbox and playstation for free\"\n",
    "          ]"
   ]
  },
  {
   "cell_type": "code",
   "execution_count": 5,
   "metadata": {},
   "outputs": [
    {
     "name": "stdout",
     "output_type": "stream",
     "text": [
      "1/1 [==============================] - 1s 1s/step\n",
      "1/1 [==============================] - 0s 161ms/step\n",
      "1/1 [==============================] - 0s 157ms/step\n",
      "1/1 [==============================] - 0s 158ms/step\n",
      "1/1 [==============================] - 0s 156ms/step\n",
      "1/1 [==============================] - 0s 158ms/step\n"
     ]
    }
   ],
   "source": [
    "filtered_titles = []\n",
    "\n",
    "for title in titles:\n",
    "    if model.predict([title]) > 0.6:\n",
    "        filtered_titles.append(title)"
   ]
  },
  {
   "cell_type": "code",
   "execution_count": 6,
   "metadata": {},
   "outputs": [
    {
     "data": {
      "text/plain": [
       "['What is Torque? - Torque basics explained',\n",
       " 'Class 11 chapter 7 | Rotatational Motion 02 || Torque - Moment Of Force - Turning Effect Of Force |',\n",
       " 'Torque, Basic Introduction, Lever Arm, Moment of Force, Simple Machines & Mechanical Advantage']"
      ]
     },
     "execution_count": 6,
     "metadata": {},
     "output_type": "execute_result"
    }
   ],
   "source": [
    "filtered_titles"
   ]
  },
  {
   "cell_type": "code",
   "execution_count": null,
   "metadata": {},
   "outputs": [],
   "source": []
  }
 ],
 "metadata": {
  "kernelspec": {
   "display_name": "Python 3",
   "language": "python",
   "name": "python3"
  },
  "language_info": {
   "codemirror_mode": {
    "name": "ipython",
    "version": 3
   },
   "file_extension": ".py",
   "mimetype": "text/x-python",
   "name": "python",
   "nbconvert_exporter": "python",
   "pygments_lexer": "ipython3",
   "version": "3.9.13"
  },
  "orig_nbformat": 4
 },
 "nbformat": 4,
 "nbformat_minor": 2
}
